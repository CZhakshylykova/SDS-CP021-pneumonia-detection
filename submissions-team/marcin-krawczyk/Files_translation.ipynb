{
 "cells": [
  {
   "cell_type": "code",
   "execution_count": 1,
   "metadata": {},
   "outputs": [],
   "source": [
    "import os\n",
    "from PIL import Image\n",
    "from torchvision import transforms\n",
    "import torchvision.transforms.functional as F"
   ]
  },
  {
   "cell_type": "code",
   "execution_count": 13,
   "metadata": {},
   "outputs": [],
   "source": [
    "folder_path = \"../../data/train/NORMAL\" \n"
   ]
  },
  {
   "cell_type": "code",
   "execution_count": 8,
   "metadata": {},
   "outputs": [],
   "source": [
    "def translate_image(image, dx=50, dy=0, angle=0):\n",
    "    return F.affine(image, angle=angle, translate=(dx, dy), scale=1, shear=0)"
   ]
  },
  {
   "cell_type": "code",
   "execution_count": 14,
   "metadata": {},
   "outputs": [
    {
     "name": "stdout",
     "output_type": "stream",
     "text": [
      "Translacja obrazów zakończona!\n"
     ]
    }
   ],
   "source": [
    "for filename in os.listdir(folder_path):\n",
    "    if filename.endswith('.jpeg'):\n",
    "        # Pełna ścieżka do pliku\n",
    "        file_path = os.path.join(folder_path, filename)\n",
    "\n",
    "        # Otwórz obraz\n",
    "        image = Image.open(file_path).convert('RGB')\n",
    "\n",
    "        # Zastosuj translację\n",
    "        translated_image = translate_image(image, dx=100, dy=100, angle=3)\n",
    "\n",
    "        # Utwórz nową nazwę pliku z \"_t1\"\n",
    "        new_filename = f\"{os.path.splitext(filename)[0]}_t1.jpeg\"\n",
    "        new_file_path = os.path.join(folder_path, new_filename)\n",
    "\n",
    "        # Zapisz przetworzony obraz\n",
    "        translated_image.save(new_file_path)\n",
    "\n",
    "        # Zastosuj translację\n",
    "        translated_image = translate_image(image, dx=-100, dy=-100, angle=-3)\n",
    "\n",
    "        # Utwórz nową nazwę pliku z \"_t1\"\n",
    "        new_filename = f\"{os.path.splitext(filename)[0]}_t2.jpeg\"\n",
    "        new_file_path = os.path.join(folder_path, new_filename)\n",
    "\n",
    "        # Zapisz przetworzony obraz\n",
    "        translated_image.save(new_file_path)\n",
    "\n",
    "\n",
    "print(\"Translacja obrazów zakończona!\")"
   ]
  }
 ],
 "metadata": {
  "kernelspec": {
   "display_name": "SDS_venv",
   "language": "python",
   "name": "python3"
  },
  "language_info": {
   "codemirror_mode": {
    "name": "ipython",
    "version": 3
   },
   "file_extension": ".py",
   "mimetype": "text/x-python",
   "name": "python",
   "nbconvert_exporter": "python",
   "pygments_lexer": "ipython3",
   "version": "3.12.3"
  }
 },
 "nbformat": 4,
 "nbformat_minor": 2
}
