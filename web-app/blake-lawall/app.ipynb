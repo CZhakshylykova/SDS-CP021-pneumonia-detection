{
 "cells": [
  {
   "cell_type": "code",
   "execution_count": 1,
   "id": "78057c03-acce-445e-8d5a-0e1c807e1e37",
   "metadata": {},
   "outputs": [
    {
     "name": "stderr",
     "output_type": "stream",
     "text": [
      "2025-02-15 12:17:47.042783: I tensorflow/core/platform/cpu_feature_guard.cc:210] This TensorFlow binary is optimized to use available CPU instructions in performance-critical operations.\n",
      "To enable the following instructions: AVX2 FMA, in other operations, rebuild TensorFlow with the appropriate compiler flags.\n"
     ]
    }
   ],
   "source": [
    "import gradio as gr\n",
    "import tensorflow as tf\n",
    "import numpy as np\n",
    "from PIL import Image, ImageOps"
   ]
  },
  {
   "cell_type": "code",
   "execution_count": 20,
   "id": "c8ef2523-14ef-41c7-8bdb-15300471db77",
   "metadata": {},
   "outputs": [
    {
     "name": "stderr",
     "output_type": "stream",
     "text": [
      "/Library/Frameworks/Python.framework/Versions/3.12/lib/python3.12/site-packages/keras/src/saving/saving_lib.py:757: UserWarning: Skipping variable loading for optimizer 'rmsprop', because it has 12 variables whereas the saved optimizer has 22 variables. \n",
      "  saveable.load_own_variables(weights_store.get(inner_path))\n"
     ]
    }
   ],
   "source": [
    "model = tf.keras.models.load_model('model/pneumoniamodel.keras')"
   ]
  },
  {
   "cell_type": "code",
   "execution_count": 33,
   "id": "b89a3f53-9e44-4252-8571-98d74bc5a779",
   "metadata": {},
   "outputs": [
    {
     "name": "stdout",
     "output_type": "stream",
     "text": [
      "* Running on local URL:  http://127.0.0.1:7873\n",
      "\n",
      "To create a public link, set `share=True` in `launch()`.\n"
     ]
    },
    {
     "data": {
      "text/html": [
       "<div><iframe src=\"http://127.0.0.1:7873/\" width=\"100%\" height=\"500\" allow=\"autoplay; camera; microphone; clipboard-read; clipboard-write;\" frameborder=\"0\" allowfullscreen></iframe></div>"
      ],
      "text/plain": [
       "<IPython.core.display.HTML object>"
      ]
     },
     "metadata": {},
     "output_type": "display_data"
    },
    {
     "name": "stdout",
     "output_type": "stream",
     "text": [
      "\u001b[1m1/1\u001b[0m \u001b[32m━━━━━━━━━━━━━━━━━━━━\u001b[0m\u001b[37m\u001b[0m \u001b[1m0s\u001b[0m 132ms/step\n"
     ]
    }
   ],
   "source": [
    "def predict_pneumonia(image):\n",
    "# Convert ti\n",
    "    image = Image.fromarray(image)\n",
    "# Convert to grayscale\n",
    "    image = ImageOps.grayscale(image)\n",
    "# Invert the colors\n",
    "    image = ImageOps.invert(image)\n",
    "# Resize the\n",
    "\n",
    "    image = image.resize((64, 64))\n",
    "# Convert the image to a numpy array and normalize\n",
    "    image_array = np.array(image)/ 255.0\n",
    "# Ensure the array is of shape (28,\n",
    "\n",
    "    image_array = image_array.reshape(1, 64, 64, 1)\n",
    "# Make a prediction\n",
    "    prediction = model.predict(image_array)\n",
    "    predict_pneumonia = np.argmax(prediction)\n",
    "    return int(predict_pneumonia)\n",
    "# Create the Gradio interface\n",
    "gr_interface = gr.Interface(\n",
    "    fn=predict_pneumonia,\n",
    "    inputs=gr.Image(image_mode='L'),\n",
    "    outputs='label',\n",
    "    title='Pneumonia Classifier',\n",
    "    description='Load Xray here!')\n",
    "# Launch the app\n",
    "if __name__==\"__main__\":\n",
    "    gr_interface.launch()"
   ]
  },
  {
   "cell_type": "code",
   "execution_count": null,
   "id": "0cf84594-bd7c-415e-8df9-508fa554488d",
   "metadata": {},
   "outputs": [],
   "source": []
  }
 ],
 "metadata": {
  "kernelspec": {
   "display_name": "Python 3 (ipykernel)",
   "language": "python",
   "name": "python3"
  },
  "language_info": {
   "codemirror_mode": {
    "name": "ipython",
    "version": 3
   },
   "file_extension": ".py",
   "mimetype": "text/x-python",
   "name": "python",
   "nbconvert_exporter": "python",
   "pygments_lexer": "ipython3",
   "version": "3.12.3"
  }
 },
 "nbformat": 4,
 "nbformat_minor": 5
}
