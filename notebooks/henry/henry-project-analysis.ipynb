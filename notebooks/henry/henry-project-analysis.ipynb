{
 "cells": [
  {
   "cell_type": "markdown",
   "metadata": {},
   "source": [
    "Import libraries"
   ]
  },
  {
   "cell_type": "code",
   "execution_count": 2,
   "metadata": {},
   "outputs": [],
   "source": [
    "import tensorflow as tf\n",
    "from keras.utils import image_dataset_from_directory"
   ]
  },
  {
   "cell_type": "markdown",
   "metadata": {},
   "source": [
    "# Part 1 - Data Preprocessing"
   ]
  },
  {
   "cell_type": "markdown",
   "metadata": {},
   "source": [
    "preprocessing the training set"
   ]
  },
  {
   "cell_type": "code",
   "execution_count": 3,
   "metadata": {},
   "outputs": [
    {
     "name": "stdout",
     "output_type": "stream",
     "text": [
      "Found 5216 files belonging to 2 classes.\n"
     ]
    }
   ],
   "source": [
    "# I found that Keras had depracated the ImageDataGenerator class. A few minutes of research revealed that had been replaced with \"image_dataset_from_directory\" function.\n",
    "\n",
    "# Load training dataset from directory\n",
    "training_set = tf.keras.utils.image_dataset_from_directory(\n",
    "   'C:/Users/henry/Desktop/Personal/Training/Project/Medical-X-Ray-Image-Classifier-Pneumonia-Detection/chest_xray/train',\n",
    "    labels='inferred',                 # Infer labels based on subdirectory names\n",
    "    label_mode='binary',               # Binary classification\n",
    "    image_size=(64, 64),               # Resize all images to 64x64\n",
    "    batch_size=32,                     # Batch size of 32\n",
    "    shuffle=True                       # Shuffle dataset\n",
    ")\n",
    "\n",
    "# Data augmentation layers (to replace ImageDataGenerator transformations)\n",
    "data_augmentation = tf.keras.Sequential([\n",
    "    tf.keras.layers.Rescaling(1./255),         # Rescale pixel values to [0, 1], this applies feature scaling to each pixel by dividing their value by 255. we already know that each pixel takes a value of 255, so by dividing all the pixels by 255, we get all pixels values between 0 and 1 which is just like a normalization.\n",
    "    tf.keras.layers.RandomFlip(\"horizontal\"),  # Apply horizontal flipping\n",
    "    tf.keras.layers.RandomRotation(0.2),       # Simulate shear transformations\n",
    "    tf.keras.layers.RandomZoom(0.2)            # Apply zoom transformations\n",
    "])\n"
   ]
  },
  {
   "cell_type": "markdown",
   "metadata": {},
   "source": [
    "preprocessing the test set"
   ]
  },
  {
   "cell_type": "code",
   "execution_count": 4,
   "metadata": {},
   "outputs": [
    {
     "name": "stdout",
     "output_type": "stream",
     "text": [
      "Found 624 files belonging to 2 classes.\n"
     ]
    }
   ],
   "source": [
    "# Load the test dataset\n",
    "test_set = tf.keras.utils.image_dataset_from_directory(\n",
    "    'C:/Users/henry/Desktop/Personal/Training/Project/Medical-X-Ray-Image-Classifier-Pneumonia-Detection/chest_xray/test',\n",
    "    labels='inferred',                 # Infer labels from subdirectory names\n",
    "    label_mode='binary',               # Binary classification\n",
    "    image_size=(64, 64),               # Resize all images to 64x64\n",
    "    batch_size=32,                     # Batch size of 32\n",
    "    shuffle=False                      # No shuffling for test dataset\n",
    ")\n",
    "\n",
    "# Apply rescaling to normalize pixel values (equivalent to rescale=1./255)\n",
    "normalization_layer = tf.keras.layers.Rescaling(1./255)"
   ]
  },
  {
   "cell_type": "markdown",
   "metadata": {},
   "source": [
    "# Part 2 - Building the CNN"
   ]
  },
  {
   "cell_type": "markdown",
   "metadata": {},
   "source": [
    "Initialising the CNN"
   ]
  },
  {
   "cell_type": "code",
   "execution_count": 5,
   "metadata": {},
   "outputs": [],
   "source": [
    "cnn = tf.keras.Sequential()"
   ]
  },
  {
   "cell_type": "markdown",
   "metadata": {},
   "source": [
    "Step 1 - Convolution"
   ]
  },
  {
   "cell_type": "code",
   "execution_count": 6,
   "metadata": {},
   "outputs": [
    {
     "name": "stderr",
     "output_type": "stream",
     "text": [
      "c:\\ProgramData\\anaconda3\\Lib\\site-packages\\keras\\src\\layers\\convolutional\\base_conv.py:107: UserWarning: Do not pass an `input_shape`/`input_dim` argument to a layer. When using Sequential models, prefer using an `Input(shape)` object as the first layer in the model instead.\n",
      "  super().__init__(activity_regularizer=activity_regularizer, **kwargs)\n"
     ]
    }
   ],
   "source": [
    "cnn.add(tf.keras.layers.Conv2D(filters=32, kernel_size=3, activation='relu', input_shape=[64, 64, 3]))"
   ]
  },
  {
   "cell_type": "markdown",
   "metadata": {},
   "source": [
    "Step 2 - Pooling"
   ]
  },
  {
   "cell_type": "code",
   "execution_count": 7,
   "metadata": {},
   "outputs": [],
   "source": [
    "cnn.add(tf.keras.layers.MaxPool2D(pool_size=2, strides=2))"
   ]
  },
  {
   "cell_type": "markdown",
   "metadata": {},
   "source": [
    "Adding a second layers to the CNN"
   ]
  },
  {
   "cell_type": "code",
   "execution_count": 8,
   "metadata": {},
   "outputs": [],
   "source": [
    "cnn.add(tf.keras.layers.Conv2D(filters=32, kernel_size=3, activation='relu'))\n",
    "cnn.add(tf.keras.layers.MaxPool2D(pool_size=2, strides=2))"
   ]
  },
  {
   "cell_type": "markdown",
   "metadata": {},
   "source": [
    "Step 3 - Flattening"
   ]
  },
  {
   "cell_type": "code",
   "execution_count": 9,
   "metadata": {},
   "outputs": [],
   "source": [
    "cnn.add(tf.keras.layers.Flatten())"
   ]
  },
  {
   "cell_type": "markdown",
   "metadata": {},
   "source": [
    "Step 4 - Full Connection"
   ]
  },
  {
   "cell_type": "code",
   "execution_count": 10,
   "metadata": {},
   "outputs": [],
   "source": [
    "cnn.add(tf.keras.layers.Dense(units=128, activation='relu'))"
   ]
  },
  {
   "cell_type": "markdown",
   "metadata": {},
   "source": [
    "Step 5 - Output Layer"
   ]
  },
  {
   "cell_type": "code",
   "execution_count": 11,
   "metadata": {},
   "outputs": [],
   "source": [
    "cnn.add(tf.keras.layers.Dense(units=1, activation='sigmoid'))"
   ]
  },
  {
   "cell_type": "markdown",
   "metadata": {},
   "source": [
    "# Part 3 - Training the CNN"
   ]
  },
  {
   "cell_type": "markdown",
   "metadata": {},
   "source": [
    "Compiling the CNN"
   ]
  },
  {
   "cell_type": "code",
   "execution_count": 12,
   "metadata": {},
   "outputs": [],
   "source": [
    "cnn.compile(optimizer='Adam', loss='binary_crossentropy', metrics=['accuracy'])"
   ]
  },
  {
   "cell_type": "markdown",
   "metadata": {},
   "source": [
    "Training the CNN"
   ]
  },
  {
   "cell_type": "code",
   "execution_count": 13,
   "metadata": {},
   "outputs": [
    {
     "name": "stdout",
     "output_type": "stream",
     "text": [
      "Epoch 1/25\n",
      "\u001b[1m163/163\u001b[0m \u001b[32m━━━━━━━━━━━━━━━━━━━━\u001b[0m\u001b[37m\u001b[0m \u001b[1m36s\u001b[0m 207ms/step - accuracy: 0.7695 - loss: 12.8104 - val_accuracy: 0.7099 - val_loss: 1.0277\n",
      "Epoch 2/25\n",
      "\u001b[1m163/163\u001b[0m \u001b[32m━━━━━━━━━━━━━━━━━━━━\u001b[0m\u001b[37m\u001b[0m \u001b[1m22s\u001b[0m 137ms/step - accuracy: 0.9524 - loss: 0.1241 - val_accuracy: 0.7436 - val_loss: 1.1437\n",
      "Epoch 3/25\n",
      "\u001b[1m163/163\u001b[0m \u001b[32m━━━━━━━━━━━━━━━━━━━━\u001b[0m\u001b[37m\u001b[0m \u001b[1m24s\u001b[0m 144ms/step - accuracy: 0.9665 - loss: 0.0844 - val_accuracy: 0.7484 - val_loss: 0.8838\n",
      "Epoch 4/25\n",
      "\u001b[1m163/163\u001b[0m \u001b[32m━━━━━━━━━━━━━━━━━━━━\u001b[0m\u001b[37m\u001b[0m \u001b[1m23s\u001b[0m 143ms/step - accuracy: 0.9708 - loss: 0.0763 - val_accuracy: 0.7532 - val_loss: 1.1122\n",
      "Epoch 5/25\n",
      "\u001b[1m163/163\u001b[0m \u001b[32m━━━━━━━━━━━━━━━━━━━━\u001b[0m\u001b[37m\u001b[0m \u001b[1m23s\u001b[0m 143ms/step - accuracy: 0.9730 - loss: 0.0658 - val_accuracy: 0.7292 - val_loss: 1.5201\n",
      "Epoch 6/25\n",
      "\u001b[1m163/163\u001b[0m \u001b[32m━━━━━━━━━━━━━━━━━━━━\u001b[0m\u001b[37m\u001b[0m \u001b[1m27s\u001b[0m 163ms/step - accuracy: 0.9744 - loss: 0.0661 - val_accuracy: 0.7516 - val_loss: 1.0143\n",
      "Epoch 7/25\n",
      "\u001b[1m163/163\u001b[0m \u001b[32m━━━━━━━━━━━━━━━━━━━━\u001b[0m\u001b[37m\u001b[0m \u001b[1m30s\u001b[0m 185ms/step - accuracy: 0.9814 - loss: 0.0500 - val_accuracy: 0.7163 - val_loss: 2.0812\n",
      "Epoch 8/25\n",
      "\u001b[1m163/163\u001b[0m \u001b[32m━━━━━━━━━━━━━━━━━━━━\u001b[0m\u001b[37m\u001b[0m \u001b[1m32s\u001b[0m 196ms/step - accuracy: 0.9806 - loss: 0.0486 - val_accuracy: 0.7308 - val_loss: 1.8653\n",
      "Epoch 9/25\n",
      "\u001b[1m163/163\u001b[0m \u001b[32m━━━━━━━━━━━━━━━━━━━━\u001b[0m\u001b[37m\u001b[0m \u001b[1m34s\u001b[0m 205ms/step - accuracy: 0.9891 - loss: 0.0294 - val_accuracy: 0.7644 - val_loss: 1.3629\n",
      "Epoch 10/25\n",
      "\u001b[1m163/163\u001b[0m \u001b[32m━━━━━━━━━━━━━━━━━━━━\u001b[0m\u001b[37m\u001b[0m \u001b[1m32s\u001b[0m 198ms/step - accuracy: 0.9893 - loss: 0.0246 - val_accuracy: 0.7292 - val_loss: 1.6580\n",
      "Epoch 11/25\n",
      "\u001b[1m163/163\u001b[0m \u001b[32m━━━━━━━━━━━━━━━━━━━━\u001b[0m\u001b[37m\u001b[0m \u001b[1m33s\u001b[0m 200ms/step - accuracy: 0.9878 - loss: 0.0405 - val_accuracy: 0.6859 - val_loss: 3.5234\n",
      "Epoch 12/25\n",
      "\u001b[1m163/163\u001b[0m \u001b[32m━━━━━━━━━━━━━━━━━━━━\u001b[0m\u001b[37m\u001b[0m \u001b[1m42s\u001b[0m 256ms/step - accuracy: 0.9833 - loss: 0.0427 - val_accuracy: 0.7388 - val_loss: 1.7091\n",
      "Epoch 13/25\n",
      "\u001b[1m163/163\u001b[0m \u001b[32m━━━━━━━━━━━━━━━━━━━━\u001b[0m\u001b[37m\u001b[0m \u001b[1m71s\u001b[0m 188ms/step - accuracy: 0.9858 - loss: 0.0384 - val_accuracy: 0.7676 - val_loss: 1.6145\n",
      "Epoch 14/25\n",
      "\u001b[1m163/163\u001b[0m \u001b[32m━━━━━━━━━━━━━━━━━━━━\u001b[0m\u001b[37m\u001b[0m \u001b[1m30s\u001b[0m 182ms/step - accuracy: 0.9881 - loss: 0.0273 - val_accuracy: 0.7244 - val_loss: 3.0441\n",
      "Epoch 15/25\n",
      "\u001b[1m163/163\u001b[0m \u001b[32m━━━━━━━━━━━━━━━━━━━━\u001b[0m\u001b[37m\u001b[0m \u001b[1m29s\u001b[0m 175ms/step - accuracy: 0.9956 - loss: 0.0180 - val_accuracy: 0.7580 - val_loss: 1.9881\n",
      "Epoch 16/25\n",
      "\u001b[1m163/163\u001b[0m \u001b[32m━━━━━━━━━━━━━━━━━━━━\u001b[0m\u001b[37m\u001b[0m \u001b[1m31s\u001b[0m 191ms/step - accuracy: 0.9935 - loss: 0.0168 - val_accuracy: 0.7147 - val_loss: 3.1404\n",
      "Epoch 17/25\n",
      "\u001b[1m163/163\u001b[0m \u001b[32m━━━━━━━━━━━━━━━━━━━━\u001b[0m\u001b[37m\u001b[0m \u001b[1m35s\u001b[0m 212ms/step - accuracy: 0.9929 - loss: 0.0153 - val_accuracy: 0.7228 - val_loss: 3.7365\n",
      "Epoch 18/25\n",
      "\u001b[1m163/163\u001b[0m \u001b[32m━━━━━━━━━━━━━━━━━━━━\u001b[0m\u001b[37m\u001b[0m \u001b[1m45s\u001b[0m 270ms/step - accuracy: 0.9921 - loss: 0.0197 - val_accuracy: 0.7628 - val_loss: 1.8176\n",
      "Epoch 19/25\n",
      "\u001b[1m163/163\u001b[0m \u001b[32m━━━━━━━━━━━━━━━━━━━━\u001b[0m\u001b[37m\u001b[0m \u001b[1m80s\u001b[0m 261ms/step - accuracy: 0.9922 - loss: 0.0252 - val_accuracy: 0.7420 - val_loss: 2.7399\n",
      "Epoch 20/25\n",
      "\u001b[1m163/163\u001b[0m \u001b[32m━━━━━━━━━━━━━━━━━━━━\u001b[0m\u001b[37m\u001b[0m \u001b[1m42s\u001b[0m 255ms/step - accuracy: 0.9939 - loss: 0.0140 - val_accuracy: 0.7308 - val_loss: 2.9515\n",
      "Epoch 21/25\n",
      "\u001b[1m163/163\u001b[0m \u001b[32m━━━━━━━━━━━━━━━━━━━━\u001b[0m\u001b[37m\u001b[0m \u001b[1m42s\u001b[0m 256ms/step - accuracy: 0.9973 - loss: 0.0106 - val_accuracy: 0.7804 - val_loss: 1.8374\n",
      "Epoch 22/25\n",
      "\u001b[1m163/163\u001b[0m \u001b[32m━━━━━━━━━━━━━━━━━━━━\u001b[0m\u001b[37m\u001b[0m \u001b[1m43s\u001b[0m 261ms/step - accuracy: 0.9929 - loss: 0.0249 - val_accuracy: 0.7724 - val_loss: 1.8999\n",
      "Epoch 23/25\n",
      "\u001b[1m163/163\u001b[0m \u001b[32m━━━━━━━━━━━━━━━━━━━━\u001b[0m\u001b[37m\u001b[0m \u001b[1m45s\u001b[0m 276ms/step - accuracy: 0.9911 - loss: 0.0259 - val_accuracy: 0.7388 - val_loss: 2.7950\n",
      "Epoch 24/25\n",
      "\u001b[1m163/163\u001b[0m \u001b[32m━━━━━━━━━━━━━━━━━━━━\u001b[0m\u001b[37m\u001b[0m \u001b[1m47s\u001b[0m 285ms/step - accuracy: 0.9911 - loss: 0.0253 - val_accuracy: 0.7099 - val_loss: 3.0573\n",
      "Epoch 25/25\n",
      "\u001b[1m163/163\u001b[0m \u001b[32m━━━━━━━━━━━━━━━━━━━━\u001b[0m\u001b[37m\u001b[0m \u001b[1m43s\u001b[0m 261ms/step - accuracy: 0.9918 - loss: 0.0220 - val_accuracy: 0.7901 - val_loss: 1.7112\n"
     ]
    },
    {
     "data": {
      "text/plain": [
       "<keras.src.callbacks.history.History at 0x2425903e1b0>"
      ]
     },
     "execution_count": 13,
     "metadata": {},
     "output_type": "execute_result"
    }
   ],
   "source": [
    "cnn.fit(x=training_set, validation_data=test_set, epochs=25)"
   ]
  },
  {
   "cell_type": "code",
   "execution_count": 14,
   "metadata": {},
   "outputs": [],
   "source": [
    "# Part 4 - Making a Single Prediction"
   ]
  },
  {
   "cell_type": "code",
   "execution_count": 15,
   "metadata": {},
   "outputs": [
    {
     "name": "stdout",
     "output_type": "stream",
     "text": [
      "Selected Image: C:/Users/henry/Desktop/Personal/Training/Project/Medical-X-Ray-Image-Classifier-Pneumonia-Detection/chest_xray/test\\PNEUMONIA\\person26_virus_60.jpeg\n",
      "\u001b[1m1/1\u001b[0m \u001b[32m━━━━━━━━━━━━━━━━━━━━\u001b[0m\u001b[37m\u001b[0m \u001b[1m0s\u001b[0m 112ms/step\n",
      "Predicted Class: PNEUMONIA\n"
     ]
    }
   ],
   "source": [
    "import numpy as np\n",
    "from tensorflow.keras.preprocessing import image\n",
    "import os\n",
    "\n",
    "# Define the test directory (parent folder containing NORMAL and PNEUMONIA)\n",
    "test_dir = \"C:/Users/henry/Desktop/Personal/Training/Project/Medical-X-Ray-Image-Classifier-Pneumonia-Detection/chest_xray/test\"\n",
    "\n",
    "# Ask the user for an image name\n",
    "image_name = input(\"Enter the image file name (including extension, e.g., person62_virus_119.jpeg): \")\n",
    "\n",
    "# Search for the image inside both NORMAL and PNEUMONIA folders\n",
    "image_path = None\n",
    "for root, dirs, files in os.walk(test_dir):\n",
    "    if image_name in files:\n",
    "        image_path = os.path.join(root, image_name)\n",
    "        break  # Stop searching once the image is found\n",
    "\n",
    "# Check if the image was found\n",
    "if image_path is None:\n",
    "    print(\"Error: Image not found in the test dataset!\")\n",
    "    exit()\n",
    "else:\n",
    "    print(f\"Selected Image: {image_path}\")\n",
    "\n",
    "    # Load and preprocess the image\n",
    "    test_image = image.load_img(image_path, target_size=(64, 64))\n",
    "    test_image = image.img_to_array(test_image)\n",
    "    test_image = np.expand_dims(test_image, axis=0)  # Expand dimensions for model input\n",
    "    test_image /= 255.0  # Normalize pixel values\n",
    "\n",
    "    # Predict using the trained model\n",
    "    result = cnn.predict(test_image)\n",
    "\n",
    "    # Define class indices\n",
    "    class_indices = {'NORMAL': 0, 'PNEUMONIA': 1}\n",
    "    class_labels = {v: k for k, v in class_indices.items()}  # Reverse mapping\n",
    "\n",
    "    # Get predicted class\n",
    "    predicted_class_index = 1 if result[0][0] > 0.5 else 0  # If model outputs probabilities, use argmax\n",
    "    prediction = class_labels[predicted_class_index]\n",
    "\n",
    "    print(f\"Predicted Class: {prediction}\")\n"
   ]
  }
 ],
 "metadata": {
  "kernelspec": {
   "display_name": "base",
   "language": "python",
   "name": "python3"
  },
  "language_info": {
   "codemirror_mode": {
    "name": "ipython",
    "version": 3
   },
   "file_extension": ".py",
   "mimetype": "text/x-python",
   "name": "python",
   "nbconvert_exporter": "python",
   "pygments_lexer": "ipython3",
   "version": "3.12.7"
  }
 },
 "nbformat": 4,
 "nbformat_minor": 2
}
