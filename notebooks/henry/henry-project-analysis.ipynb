{
 "cells": [
  {
   "cell_type": "markdown",
   "metadata": {},
   "source": [
    "Import libraries"
   ]
  },
  {
   "cell_type": "code",
   "execution_count": null,
   "metadata": {
    "vscode": {
     "languageId": "plaintext"
    }
   },
   "outputs": [],
   "source": [
    "import tensorflow as tf"
   ]
  },
  {
   "cell_type": "markdown",
   "metadata": {},
   "source": [
    "# Part 1 - Data Preprocessing"
   ]
  },
  {
   "cell_type": "markdown",
   "metadata": {},
   "source": [
    "preprocessing the training set"
   ]
  },
  {
   "cell_type": "code",
   "execution_count": null,
   "metadata": {
    "vscode": {
     "languageId": "plaintext"
    }
   },
   "outputs": [],
   "source": [
    "# I found that Keras had depracated the ImageDataGenerator class. A few minutes of research revealed that had been replaced with \"image_dataset_from_directory\" function.\n",
    "\n",
    "# Load training dataset from directory\n",
    "training_set = tf.keras.utils.image_dataset_from_directory(\n",
    "   'C:/Users/henry/Desktop/Personal/Training/Deep Learning/Deep Learning A-Z/Part 2 - Convolutional Neural Networks (CNN)/dataset/training_set',\n",
    "    labels='inferred',                 # Infer labels based on subdirectory names\n",
    "    label_mode='binary',               # Binary classification\n",
    "    image_size=(64, 64),               # Resize all images to 64x64\n",
    "    batch_size=32,                     # Batch size of 32\n",
    "    shuffle=True                       # Shuffle dataset\n",
    ")\n",
    "\n",
    "# Data augmentation layers (to replace ImageDataGenerator transformations)\n",
    "data_augmentation = tf.keras.Sequential([\n",
    "    tf.keras.layers.Rescaling(1./255),         # Rescale pixel values to [0, 1], this applies feature scaling to each pixel by dividing their value by 255. we already know that each pixel takes a value of 255, so by dividing all the pixels by 255, we get all pixels values between 0 and 1 which is just like a normalization.\n",
    "    tf.keras.layers.RandomFlip(\"horizontal\"),  # Apply horizontal flipping\n",
    "    tf.keras.layers.RandomRotation(0.2),       # Simulate shear transformations\n",
    "    tf.keras.layers.RandomZoom(0.2)            # Apply zoom transformations\n",
    "])\n"
   ]
  },
  {
   "cell_type": "markdown",
   "metadata": {},
   "source": [
    "preprocessing the test set"
   ]
  },
  {
   "cell_type": "code",
   "execution_count": null,
   "metadata": {
    "vscode": {
     "languageId": "plaintext"
    }
   },
   "outputs": [],
   "source": [
    "# Load the test dataset\n",
    "test_set = tf.keras.utils.image_dataset_from_directory(\n",
    "    'C:/Users/henry/Desktop/Personal/Training/Deep Learning/Deep Learning A-Z/Part 2 - Convolutional Neural Networks (CNN)/dataset/test_set',\n",
    "    labels='inferred',                 # Infer labels from subdirectory names\n",
    "    label_mode='binary',               # Binary classification\n",
    "    image_size=(64, 64),               # Resize all images to 64x64\n",
    "    batch_size=32,                     # Batch size of 32\n",
    "    shuffle=False                      # No shuffling for test dataset\n",
    ")\n",
    "\n",
    "# Apply rescaling to normalize pixel values (equivalent to rescale=1./255)\n",
    "normalization_layer = tf.keras.layers.Rescaling(1./255)"
   ]
  },
  {
   "cell_type": "markdown",
   "metadata": {},
   "source": [
    "# Part 2 - Building the CNN"
   ]
  },
  {
   "cell_type": "markdown",
   "metadata": {},
   "source": []
  }
 ],
 "metadata": {
  "language_info": {
   "name": "python"
  }
 },
 "nbformat": 4,
 "nbformat_minor": 2
}
