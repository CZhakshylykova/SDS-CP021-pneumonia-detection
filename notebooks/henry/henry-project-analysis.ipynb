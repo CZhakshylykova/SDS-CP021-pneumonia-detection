{
 "cells": [
  {
   "cell_type": "markdown",
   "metadata": {},
   "source": [
    "Import libraries"
   ]
  },
  {
   "cell_type": "code",
   "execution_count": 41,
   "metadata": {},
   "outputs": [
    {
     "ename": "",
     "evalue": "",
     "output_type": "error",
     "traceback": [
      "\u001b[1;31mFailed to start the Kernel. \n",
      "\u001b[1;31mUnable to start Kernel 'base (Python 3.12.7)' due to a timeout waiting for the ports to get used. \n",
      "\u001b[1;31mView Jupyter <a href='command:jupyter.viewOutput'>log</a> for further details."
     ]
    }
   ],
   "source": [
    "import tensorflow as tf\n",
    "from keras.utils import image_dataset_from_directory"
   ]
  },
  {
   "cell_type": "markdown",
   "metadata": {},
   "source": [
    "# Part 1 - Data Preprocessing"
   ]
  },
  {
   "cell_type": "markdown",
   "metadata": {},
   "source": [
    "preprocessing the training set"
   ]
  },
  {
   "cell_type": "code",
   "execution_count": 42,
   "metadata": {},
   "outputs": [
    {
     "name": "stdout",
     "output_type": "stream",
     "text": [
      "Found 5216 files belonging to 2 classes.\n"
     ]
    }
   ],
   "source": [
    "# I found that Keras had depracated the ImageDataGenerator class. A few minutes of research revealed that had been replaced with \"image_dataset_from_directory\" function.\n",
    "\n",
    "# Load training dataset from directory\n",
    "training_set = tf.keras.utils.image_dataset_from_directory(\n",
    "   'C:/Users/henry/Desktop/Personal/Training/Project/Medical-X-Ray-Image-Classifier-Pneumonia-Detection/chest_xray/train',\n",
    "    labels='inferred',                 # Infer labels based on subdirectory names\n",
    "    label_mode='binary',               # Binary classification\n",
    "    image_size=(64, 64),               # Resize all images to 64x64\n",
    "    batch_size=32,                     # Batch size of 32\n",
    "    shuffle=True                       # Shuffle dataset\n",
    ")\n",
    "\n",
    "# Data augmentation layers (to replace ImageDataGenerator transformations)\n",
    "data_augmentation = tf.keras.Sequential([\n",
    "    tf.keras.layers.Rescaling(1./255),         # Rescale pixel values to [0, 1], this applies feature scaling to each pixel by dividing their value by 255. we already know that each pixel takes a value of 255, so by dividing all the pixels by 255, we get all pixels values between 0 and 1 which is just like a normalization.\n",
    "    tf.keras.layers.RandomFlip(\"horizontal\"),  # Apply horizontal flipping\n",
    "    tf.keras.layers.RandomRotation(0.2),       # Simulate shear transformations\n",
    "    tf.keras.layers.RandomZoom(0.2)            # Apply zoom transformations\n",
    "])\n"
   ]
  },
  {
   "cell_type": "markdown",
   "metadata": {},
   "source": [
    "preprocessing the test set"
   ]
  },
  {
   "cell_type": "code",
   "execution_count": 43,
   "metadata": {},
   "outputs": [
    {
     "name": "stdout",
     "output_type": "stream",
     "text": [
      "Found 624 files belonging to 2 classes.\n"
     ]
    }
   ],
   "source": [
    "# Load the test dataset\n",
    "test_set = tf.keras.utils.image_dataset_from_directory(\n",
    "    'C:/Users/henry/Desktop/Personal/Training/Project/Medical-X-Ray-Image-Classifier-Pneumonia-Detection/chest_xray/test',\n",
    "    labels='inferred',                 # Infer labels from subdirectory names\n",
    "    label_mode='binary',               # Binary classification\n",
    "    image_size=(64, 64),               # Resize all images to 64x64\n",
    "    batch_size=32,                     # Batch size of 32\n",
    "    shuffle=False                      # No shuffling for test dataset\n",
    ")\n",
    "\n",
    "# Apply rescaling to normalize pixel values (equivalent to rescale=1./255)\n",
    "normalization_layer = tf.keras.layers.Rescaling(1./255)"
   ]
  },
  {
   "cell_type": "markdown",
   "metadata": {},
   "source": [
    "# Part 2 - Building the CNN"
   ]
  },
  {
   "cell_type": "markdown",
   "metadata": {},
   "source": [
    "Initialising the CNN"
   ]
  },
  {
   "cell_type": "code",
   "execution_count": 44,
   "metadata": {},
   "outputs": [
    {
     "ename": "",
     "evalue": "",
     "output_type": "error",
     "traceback": [
      "\u001b[1;31mFailed to start the Kernel. \n",
      "\u001b[1;31mUnable to start Kernel 'base (Python 3.12.7)' due to a timeout waiting for the ports to get used. \n",
      "\u001b[1;31mView Jupyter <a href='command:jupyter.viewOutput'>log</a> for further details."
     ]
    }
   ],
   "source": [
    "cnn = tf.keras.Sequential()"
   ]
  },
  {
   "cell_type": "markdown",
   "metadata": {},
   "source": [
    "Step 1 - Convolution"
   ]
  },
  {
   "cell_type": "code",
   "execution_count": 45,
   "metadata": {},
   "outputs": [],
   "source": [
    "cnn.add(tf.keras.layers.Conv2D(filters=32, kernel_size=3, activation='relu', input_shape=[64, 64, 3]))"
   ]
  },
  {
   "cell_type": "markdown",
   "metadata": {},
   "source": [
    "Step 2 - Pooling"
   ]
  },
  {
   "cell_type": "code",
   "execution_count": 46,
   "metadata": {},
   "outputs": [],
   "source": [
    "cnn.add(tf.keras.layers.MaxPool2D(pool_size=2, strides=2))"
   ]
  },
  {
   "cell_type": "markdown",
   "metadata": {},
   "source": [
    "Adding a second layers to the CNN"
   ]
  },
  {
   "cell_type": "code",
   "execution_count": 47,
   "metadata": {},
   "outputs": [],
   "source": [
    "cnn.add(tf.keras.layers.Conv2D(filters=32, kernel_size=3, activation='relu'))\n",
    "cnn.add(tf.keras.layers.MaxPool2D(pool_size=2, strides=2))"
   ]
  },
  {
   "cell_type": "markdown",
   "metadata": {},
   "source": [
    "Step 3 - Flattening"
   ]
  },
  {
   "cell_type": "code",
   "execution_count": 48,
   "metadata": {},
   "outputs": [],
   "source": [
    "cnn.add(tf.keras.layers.Flatten())"
   ]
  },
  {
   "cell_type": "markdown",
   "metadata": {},
   "source": [
    "Step 4 - Full Connection"
   ]
  },
  {
   "cell_type": "code",
   "execution_count": 49,
   "metadata": {},
   "outputs": [],
   "source": [
    "cnn.add(tf.keras.layers.Dense(units=128, activation='relu'))"
   ]
  },
  {
   "cell_type": "markdown",
   "metadata": {},
   "source": [
    "Step 5 - Output Layer"
   ]
  },
  {
   "cell_type": "code",
   "execution_count": 50,
   "metadata": {},
   "outputs": [],
   "source": [
    "cnn.add(tf.keras.layers.Dense(units=1, activation='sigmoid'))"
   ]
  },
  {
   "cell_type": "markdown",
   "metadata": {},
   "source": [
    "# Part 3 - Training the CNN"
   ]
  },
  {
   "cell_type": "markdown",
   "metadata": {},
   "source": [
    "Compiling the CNN"
   ]
  },
  {
   "cell_type": "code",
   "execution_count": 51,
   "metadata": {},
   "outputs": [],
   "source": [
    "cnn.compile(optimizer='Adam', loss='binary_crossentropy', metrics=['accuracy'])"
   ]
  },
  {
   "cell_type": "markdown",
   "metadata": {},
   "source": [
    "Training the CNN"
   ]
  },
  {
   "cell_type": "code",
   "execution_count": null,
   "metadata": {},
   "outputs": [],
   "source": [
    "cnn.fit(x=training_set, validation_data=test_set, epochs=25)"
   ]
  },
  {
   "cell_type": "code",
   "execution_count": 53,
   "metadata": {},
   "outputs": [],
   "source": [
    "# Part 4 - Making a Single Prediction"
   ]
  },
  {
   "cell_type": "code",
   "execution_count": null,
   "metadata": {},
   "outputs": [],
   "source": [
    "import numpy as np\n",
    "from tensorflow.keras.preprocessing import image\n",
    "import os\n",
    "\n",
    "# Define the test directory (parent folder containing NORMAL and PNEUMONIA)\n",
    "test_dir = \"C:/Users/henry/Desktop/Personal/Training/Project/Medical-X-Ray-Image-Classifier-Pneumonia-Detection/chest_xray/test\"\n",
    "\n",
    "# Ask the user for an image name\n",
    "image_name = input(\"Enter the image file name (including extension, e.g., person62_virus_119.jpeg): \")\n",
    "\n",
    "# Search for the image inside both NORMAL and PNEUMONIA folders\n",
    "image_path = None\n",
    "for root, dirs, files in os.walk(test_dir):\n",
    "    if image_name in files:\n",
    "        image_path = os.path.join(root, image_name)\n",
    "        break  # Stop searching once the image is found\n",
    "\n",
    "# Check if the image was found\n",
    "if image_path is None:\n",
    "    print(\"Error: Image not found in the test dataset!\")\n",
    "    exit()\n",
    "else:\n",
    "    print(f\"Selected Image: {image_path}\")\n",
    "\n",
    "    # Load and preprocess the image\n",
    "    test_image = image.load_img(image_path, target_size=(64, 64))\n",
    "    test_image = image.img_to_array(test_image)\n",
    "    test_image = np.expand_dims(test_image, axis=0)  # Expand dimensions for model input\n",
    "    test_image /= 255.0  # Normalize pixel values\n",
    "\n",
    "    # Predict using the trained model\n",
    "    result = cnn.predict(test_image)\n",
    "\n",
    "    # Define class indices\n",
    "    class_indices = {'NORMAL': 0, 'PNEUMONIA': 1}\n",
    "    class_labels = {v: k for k, v in class_indices.items()}  # Reverse mapping\n",
    "\n",
    "    # Get predicted class\n",
    "    predicted_class_index = 1 if result[0][0] > 0.5 else 0  # If model outputs probabilities, use argmax\n",
    "    prediction = class_labels[predicted_class_index]\n",
    "\n",
    "    print(f\"Predicted Class: {prediction}\")\n"
   ]
  },
  {
   "cell_type": "code",
   "execution_count": null,
   "metadata": {},
   "outputs": [],
   "source": []
  }
 ],
 "metadata": {
  "kernelspec": {
   "display_name": "base",
   "language": "python",
   "name": "python3"
  },
  "language_info": {
   "codemirror_mode": {
    "name": "ipython",
    "version": 3
   },
   "file_extension": ".py",
   "mimetype": "text/x-python",
   "name": "python",
   "nbconvert_exporter": "python",
   "pygments_lexer": "ipython3",
   "version": "3.12.7"
  }
 },
 "nbformat": 4,
 "nbformat_minor": 2
}
