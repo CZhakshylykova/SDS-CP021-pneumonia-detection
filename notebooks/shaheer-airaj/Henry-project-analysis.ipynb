{
 "cells": [
  {
   "cell_type": "markdown",
   "metadata": {},
   "source": [
    "Importing libraries"
   ]
  },
  {
   "cell_type": "code",
   "execution_count": null,
   "metadata": {},
   "outputs": [],
   "source": [
    "import tensorflow as tf"
   ]
  },
  {
   "cell_type": "markdown",
   "metadata": {},
   "source": [
    "Part 1 - Data Preprocessing"
   ]
  },
  {
   "cell_type": "markdown",
   "metadata": {},
   "source": [
    "Preprocessing the Training Set"
   ]
  },
  {
   "cell_type": "code",
   "execution_count": null,
   "metadata": {},
   "outputs": [],
   "source": [
    "# I found that Keras had depracated the ImageDataGenerator class. A few minutes of research revealed that had been replaced with \"image_dataset_from_directory\" function.\n",
    "\n",
    "# Load training dataset from directory\n",
    "training_set = tf.keras.utils.image_dataset_from_directory(\n",
    "   'C:/Users/henry/Desktop/Personal/Training/Deep Learning/Deep Learning A-Z/Part 2 - Convolutional Neural Networks (CNN)/dataset/training_set',\n",
    "    labels='inferred',                 # Infer labels based on subdirectory names\n",
    "    label_mode='binary',               # Binary classification\n",
    "    image_size=(64, 64),               # Resize all images to 64x64\n",
    "    batch_size=32,                     # Batch size of 32\n",
    "    shuffle=True                       # Shuffle dataset\n",
    ")\n",
    "\n",
    "# Data augmentation layers (to replace ImageDataGenerator transformations)\n",
    "data_augmentation = tf.keras.Sequential([\n",
    "    tf.keras.layers.Rescaling(1./255),         # Rescale pixel values to [0, 1], this applies feature scaling to each pixel by dividing their value by 255. we already know that each pixel takes a value of 255, so by dividing all the pixels by 255, we get all pixels values between 0 and 1 which is just like a normalization.\n",
    "    tf.keras.layers.RandomFlip(\"horizontal\"),  # Apply horizontal flipping\n",
    "    tf.keras.layers.RandomRotation(0.2),       # Simulate shear transformations\n",
    "    tf.keras.layers.RandomZoom(0.2)            # Apply zoom transformations\n",
    "])\n",
    "\n"
   ]
  },
  {
   "cell_type": "markdown",
   "metadata": {},
   "source": [
    "Preprocessing the Test Set"
   ]
  },
  {
   "cell_type": "code",
   "execution_count": null,
   "metadata": {},
   "outputs": [],
   "source": [
    "# Load the test dataset\n",
    "test_set = tf.keras.utils.image_dataset_from_directory(\n",
    "    'C:/Users/henry/Desktop/Personal/Training/Deep Learning/Deep Learning A-Z/Part 2 - Convolutional Neural Networks (CNN)/dataset/test_set',\n",
    "    labels='inferred',                 # Infer labels from subdirectory names\n",
    "    label_mode='binary',               # Binary classification\n",
    "    image_size=(64, 64),               # Resize all images to 64x64\n",
    "    batch_size=32,                     # Batch size of 32\n",
    "    shuffle=False                      # No shuffling for test dataset\n",
    ")\n",
    "\n",
    "# Apply rescaling to normalize pixel values (equivalent to rescale=1./255)\n",
    "normalization_layer = tf.keras.layers.Rescaling(1./255)"
   ]
  }
 ],
 "metadata": {
  "kernelspec": {
   "display_name": ".venv",
   "language": "python",
   "name": "python3"
  },
  "language_info": {
   "codemirror_mode": {
    "name": "ipython",
    "version": 3
   },
   "file_extension": ".py",
   "mimetype": "text/x-python",
   "name": "python",
   "nbconvert_exporter": "python",
   "pygments_lexer": "ipython3",
   "version": "-1.-1.-1"
  }
 },
 "nbformat": 4,
 "nbformat_minor": 2
}
