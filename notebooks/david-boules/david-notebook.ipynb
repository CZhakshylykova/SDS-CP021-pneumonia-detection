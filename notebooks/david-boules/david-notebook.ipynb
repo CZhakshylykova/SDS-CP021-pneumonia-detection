{
 "cells": [
  {
   "cell_type": "markdown",
   "id": "2cd9fb13-6f30-447d-b3f8-8f720b5f0393",
   "metadata": {},
   "source": [
    "# Phase 1: Introduction to the Project & Dataset Exploration"
   ]
  },
  {
   "cell_type": "markdown",
   "id": "9f6e61e1-20a4-4186-b4b2-22ca48d62faa",
   "metadata": {},
   "source": [
    "### Quick Description of the Dataset:"
   ]
  },
  {
   "cell_type": "markdown",
   "id": "9b68abde-16ed-4b93-b74d-03beb5052c26",
   "metadata": {},
   "source": [
    "Link to the Dataset: https://www.kaggle.com/datasets/paultimothymooney/chest-xray-pneumonia\n",
    "\n",
    "#### <u>The dataset is comprised of 3 folders:<u>\n",
    "\n",
    "1. **train** - *contains the images that the model will be trained on* (the training set)\n",
    "   - **1341 images** are x-rays of **'normal'** lungs, **3875 images** are x-rays of lungs with **pneumonia**\n",
    "2. **test** - *contains the images that the model will be tested on to evaluate its performance, providing guidelines for model tuning* (the test set)\n",
    "   - **234 images** are x-rays of **'normal'** lungs, **390 images** are x-rays of lungs with **pneumonia**\n",
    "3. **val** - *contains the images that will be used to assess the final performance of the fully trained model* (the validation set)\n",
    "   - **8 images** are x-rays of **'normal'** lungs, **8 images** are x-rays of lungs with **pneumonia**\n",
    "\n",
    "The dataset contains images of lungs with both 'bacterial' and 'viral' pneumonia, however the model will not differentiate between the two (it will simply aim to classify a given x-ray image of a lung as being infected with pneumonia or not)."
   ]
  },
  {
   "cell_type": "markdown",
   "id": "efb990ca-6a02-40e2-837f-69b69cd18ff9",
   "metadata": {},
   "source": [
    "### **CLASS IMBALANCE ALERT!!!**\n",
    "With a total of 5216 images in the training set, roughly **74.3%** of the images in the training set are **x-ray images of pneumonia-infected lungs**, leaving ***only around 25.7%*** of the images in the training set to be ***x-ray images of healthy lungs***. **This is quite a significant class imbalance** (almost 3x as many pneumonia infected lungs as healthy lungs) and this will need to be handled later on."
   ]
  },
  {
   "cell_type": "markdown",
   "id": "b2b1c03a-4f19-44b9-8593-db0238f112e7",
   "metadata": {},
   "source": [
    "# Phase 2: Data Preprocessing"
   ]
  },
  {
   "cell_type": "markdown",
   "id": "509ed2b6-1aee-4101-b499-07a83dc89a8b",
   "metadata": {},
   "source": [
    "### Importing Tensorflow & the ImageDataGenerator Class"
   ]
  },
  {
   "cell_type": "code",
   "execution_count": 2,
   "id": "16cd7482-e60f-431b-89db-8a5585bfbac2",
   "metadata": {},
   "outputs": [],
   "source": [
    "import tensorflow as tf\n",
    "from tensorflow.keras.preprocessing.image import ImageDataGenerator"
   ]
  },
  {
   "cell_type": "markdown",
   "id": "3ce13619-32a3-4df7-a152-269ddb7c0e66",
   "metadata": {},
   "source": [
    "## 1. Preprocessing Training Set"
   ]
  },
  {
   "cell_type": "markdown",
   "id": "9843ec1a-a41b-46bd-a59c-b4007958d173",
   "metadata": {},
   "source": [
    "<u>*The 'what' and 'why' behind the keys steps in image preprocessing*:<u>\n",
    "- **Image Resizing**: ensure all images are the same size - neural networks require inputs of a fixed size\n",
    "\n",
    "\n",
    "- **Pixel Normalization**: scale pixel values to take a value wihtin a certain (smaller) range - helps model converge faster by ensuring data is consistent and not too varied\n",
    "\n",
    "\n",
    "- **Data Augmentaion**: apply random transformations (e.g. rotations/flips) to images - increases the variety in the training set to prevent overfitting and increase the generalization of the model"
   ]
  },
  {
   "cell_type": "code",
   "execution_count": 3,
   "id": "32062ff9-d851-445e-99cd-4a3897189090",
   "metadata": {},
   "outputs": [
    {
     "name": "stdout",
     "output_type": "stream",
     "text": [
      "Found 5216 images belonging to 2 classes.\n"
     ]
    }
   ],
   "source": [
    "train_datagen = ImageDataGenerator(rescale = 1./255,\n",
    "                                   shear_range = 0.2,\n",
    "                                   zoom_range = 0.2,\n",
    "                                   horizontal_flip = True)\n",
    "\n",
    "training_set = train_datagen.flow_from_directory('data/train',\n",
    "                                                 target_size = (64,64), #try different sizes\n",
    "                                                 batch_size = 32,\n",
    "                                                 color_mode = 'grayscale',\n",
    "                                                 class_mode = 'binary')"
   ]
  },
  {
   "cell_type": "markdown",
   "id": "de2b23d7-5bd3-4481-b417-61e9feff3b0a",
   "metadata": {},
   "source": [
    "#### Explaining each parameter:\n",
    "\n",
    "<u>**ImageDataGenerator Parameters:**<u>\n",
    "\n",
    "- **rescale**: *'min-max scaling'* - normalizes pixel values to take a value between 0 and 1 by dividing by 255\n",
    "- **shear_range**: a type of transvection\n",
    "- **zoom_range**: applies a random zoom augmentation within a given range ([1-value, 1+value])\n",
    "    -  e.g. if value = 0.2, range is [0.8, 1.2]\n",
    "- **horizontal_flip**: flips image in the y-axis\n",
    "\n",
    "*other transformations that may be used later on:*\n",
    "- *rotation_range*: applies a random rotation with an angle between 0 and the value passed in \n",
    "- *width_shift_range*: applies a horizontal shift to the image\n",
    "- *height_shift_range*: applies a vertical shift to the image\n",
    "\n",
    "<u>**flow_from_directory Parameters:**<u>\n",
    "\n",
    "- **(first argument)**: folder path\n",
    "- **target_size**: image resizing dimensions\n",
    "- **batch_size**: how many images are in each batch for each training iteration\n",
    "- **class_mode**: determines the type of label array(s) that is/are returned"
   ]
  },
  {
   "cell_type": "markdown",
   "id": "8cd3f346-5bee-4823-8e6f-82d725c0064d",
   "metadata": {},
   "source": [
    "#### Notes on Image Preprocessing"
   ]
  },
  {
   "cell_type": "markdown",
   "id": "2532954a-fa47-44b8-94f1-2f345a5f0bed",
   "metadata": {
    "jp-MarkdownHeadingCollapsed": true
   },
   "source": [
    "##### Data Augmentation: Geometric & Photometric augmentation techniques:\n",
    "\n",
    "**Geometric**: 'Modify shape/position of the image' e.g. zooming/cropping, flipping(horizontal/vertical), rotating, shifting\n",
    "\n",
    "**Photometric**: 'Modify appearance/color of image' e.g. altering brigthness, contrast, saturation, hue\n",
    "\n",
    "Depending on the data available, specific techniques/transformations are used in combination. In the case of this dataset (grayscale X-ray images), I will avoid ***photometric augmentation techniques*** since pneumonia detection involves detecting **gray/white intersitial patterns** which could be obstructed/unrecognizable through certain photometric augmentation techniques by altering parameters such as brightness and contrast."
   ]
  },
  {
   "cell_type": "markdown",
   "id": "c74e69c7-abf4-4e36-a1d6-63ba8c4ef9d3",
   "metadata": {},
   "source": [
    "## 2. Preprocessing Test Set"
   ]
  },
  {
   "cell_type": "markdown",
   "id": "4c628f9c-6f74-4fa5-81fb-55abf02da207",
   "metadata": {},
   "source": [
    "The test set should **not be augmented** because it should reflect *real-world conditions*, the model would be tested on **altered images** that aren't actual medical scans"
   ]
  },
  {
   "cell_type": "code",
   "execution_count": 4,
   "id": "c4af4735-5e8a-478a-b65c-d04b13f2bed8",
   "metadata": {},
   "outputs": [
    {
     "name": "stdout",
     "output_type": "stream",
     "text": [
      "Found 624 images belonging to 2 classes.\n"
     ]
    }
   ],
   "source": [
    "test_datagen = ImageDataGenerator(rescale=1.0/255.0)\n",
    "\n",
    "test_set = test_datagen.flow_from_directory('data/test',\n",
    "                                                 target_size = (64,64), #try different sizes\n",
    "                                                 batch_size = 32,\n",
    "                                                 color_mode = 'grayscale',\n",
    "                                                 class_mode = 'binary')"
   ]
  },
  {
   "cell_type": "markdown",
   "id": "207f9775-f519-4372-91c3-407d996d9ecd",
   "metadata": {},
   "source": [
    "#### Handling the Class Imbalance: Using Class Weighting instead of Resampling techniques"
   ]
  },
  {
   "cell_type": "markdown",
   "id": "56392a87-6b7c-4f61-8356-4d9ec84cbb8a",
   "metadata": {},
   "source": [
    "Since the class imbalance is not too extreme, and resampling (over/undersampling) can lead to overfitting/loss of valuable information, I will proceed with the cost-sensitive learning, by applying the **inverse class frequency method** or simply using sklearn's **compute_class_weight** function"
   ]
  },
  {
   "cell_type": "code",
   "execution_count": 3,
   "id": "b55afb4a-9fcc-4fbf-ba19-763f55c219fd",
   "metadata": {},
   "outputs": [
    {
     "name": "stdout",
     "output_type": "stream",
     "text": [
      "Computed Class Weights: {0: 1.9448173005219984, 1: 0.6730322580645162}\n"
     ]
    }
   ],
   "source": [
    "from sklearn.utils.class_weight import compute_class_weight\n",
    "import numpy as np\n",
    "\n",
    "class_labels = np.array([0,1]) #(0 = Normal, 1 = Pneumonia)\n",
    "\n",
    "class_weights = compute_class_weight(\n",
    "    class_weight = \"balanced\",\n",
    "    classes = class_labels,\n",
    "    y = [0]*1341 + [1]*3875)\n",
    "\n",
    "class_weight_dict = {i: weight for i, weight in enumerate(class_weights)}\n",
    "print(\"Computed Class Weights:\", class_weight_dict)"
   ]
  },
  {
   "cell_type": "markdown",
   "id": "e2812e5c-9c8c-4622-ba4e-3584c8078b12",
   "metadata": {},
   "source": [
    "The CNN model to be built calculates a **loss function** which the model aims to minimize throughout subsequent EPOCs. With class weighting, the loss function applies **higher penalties** to misclassified samples from the *minority class* (which are the normal lungs). This handles the class imbalance by urging the model to pay more attention to the minority class (normal lungs)."
   ]
  },
  {
   "cell_type": "markdown",
   "id": "8a7d6741-ecd0-446b-9cbe-1f216a6eb4ff",
   "metadata": {},
   "source": [
    "# Phase 3: Model Development"
   ]
  },
  {
   "cell_type": "code",
   "execution_count": null,
   "id": "ac914267-7ea2-42dd-9324-59f6cbce563e",
   "metadata": {},
   "outputs": [],
   "source": []
  },
  {
   "cell_type": "markdown",
   "id": "3fb60aff-1c72-4084-9008-5f1beeb8bb5b",
   "metadata": {},
   "source": [
    "# References:"
   ]
  },
  {
   "cell_type": "markdown",
   "id": "bf2de50e-b9ec-4020-a0cc-3549da6b6ad6",
   "metadata": {},
   "source": [
    "- Data Augmentation Techniques: https://www.linkedin.com/advice/0/how-do-you-implement-data-augmentation-techniques\n",
    "- Handling Class Imbalance in Image Classification: Techniques and Best Practices: https://medium.com/@okeshakarunarathne/handling-class-imbalance-in-image-classification-techniques-and-best-practices-c539214440b0\n",
    "- Handling Class Imbalances using Class Weights: https://medium.com/@ravi.abhinav4/improving-class-imbalance-with-class-weights-in-machine-learning-af072fdd4aa4"
   ]
  },
  {
   "cell_type": "code",
   "execution_count": null,
   "id": "88a620ad-d0b9-4242-abe4-7c0f8312e682",
   "metadata": {},
   "outputs": [],
   "source": []
  }
 ],
 "metadata": {
  "kernelspec": {
   "display_name": "Python 3 (ipykernel)",
   "language": "python",
   "name": "python3"
  },
  "language_info": {
   "codemirror_mode": {
    "name": "ipython",
    "version": 3
   },
   "file_extension": ".py",
   "mimetype": "text/x-python",
   "name": "python",
   "nbconvert_exporter": "python",
   "pygments_lexer": "ipython3",
   "version": "3.12.7"
  }
 },
 "nbformat": 4,
 "nbformat_minor": 5
}
